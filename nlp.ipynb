{
  "nbformat": 4,
  "nbformat_minor": 0,
  "metadata": {
    "colab": {
      "provenance": []
    },
    "kernelspec": {
      "name": "python3",
      "display_name": "Python 3"
    },
    "language_info": {
      "name": "python"
    }
  },
  "cells": [
    {
      "cell_type": "code",
      "execution_count": 1,
      "metadata": {
        "id": "oaa7c7A63Tn4"
      },
      "outputs": [],
      "source": [
        "import re\n",
        "import spacy"
      ]
    },
    {
      "cell_type": "code",
      "source": [
        "import re\n",
        "import spacy\n",
        "\n",
        "# Load spaCy model\n",
        "nlp = spacy.load('en_core_web_sm')\n",
        "\n",
        "# Example text extracted from a compliance document\n",
        "text = \"\"\"\n",
        "Product Name : NEEDLE SPINAL S/SU 22GA 3-1/2IN QUINCKE\n",
        "Manufacture Date :2015/03/13\n",
        "Batch Number : 5041731\n",
        "Expiration Date : 2020/02/29\n",
        "_______________________________________________________________________\n",
        "REGULATORY COMPLIANCE AND QUALITY SYSTEM\n",
        "BD Products comply with the regulatory requirements of the region in\n",
        "which these are sold and manufactured.\n",
        "BD Products sold in the US comply with the current FDA Quality System\n",
        "Regulation 21CFR820. Medical devices are listed with FDA per 21CFR807.\n",
        "Manufacturing sites are registered with FDA per 21CFR807. The devices\n",
        "satisfy FDA pre-market notification requirements per 21CFR 807.\n",
        " BD Products which are CE marked comply with Medical Devices Directive\n",
        "93/42/EEC and are manufactured within production facilities that comply\n",
        "with the international standard ISO 13485: Quality Systems - Medical\n",
        "Devices - Requirements For regulatory purposes.\n",
        "\n",
        "\"\"\"\n",
        "\n",
        "# Process the extracted text using spaCy\n",
        "doc = nlp(text)\n",
        "\n",
        "# Extract named entities (e.g., dates, organizations)\n",
        "print(\"Named Entities:\")\n",
        "for entity in doc.ents:\n",
        "    print(entity.text, entity.label_)\n",
        "print(\"\\n\")\n",
        "\n",
        "\n"
      ],
      "metadata": {
        "colab": {
          "base_uri": "https://localhost:8080/"
        },
        "id": "pDWLUIHp3Vgm",
        "outputId": "8f754eaf-1d32-406c-836b-3a367744ce13"
      },
      "execution_count": 4,
      "outputs": [
        {
          "output_type": "stream",
          "name": "stdout",
          "text": [
            "Named Entities:\n",
            "2015/03/13 CARDINAL\n",
            "5041731 CARDINAL\n",
            "2020/02/29 CARDINAL\n",
            "REGULATORY COMPLIANCE ORG\n",
            "BD Products ORG\n",
            "BD Products ORG\n",
            "US GPE\n",
            "FDA Quality System\n",
            "Regulation 21CFR820 ORG\n",
            "FDA ORG\n",
            "21CFR807 CARDINAL\n",
            "FDA ORG\n",
            "21CFR807 CARDINAL\n",
            "FDA ORG\n",
            "21CFR CARDINAL\n",
            "807 CARDINAL\n",
            "BD Products ORG\n",
            "CE ORG\n",
            "Medical Devices Directive ORG\n",
            "Quality Systems - Medical\n",
            "Devices - Requirements For ORG\n",
            "\n",
            "\n"
          ]
        }
      ]
    },
    {
      "cell_type": "code",
      "source": [
        "# Use regex to find specific patterns\n",
        "# Pattern for FDA regulations\n",
        "fda_pattern = re.compile(r'21CFR\\d{3}')\n",
        "fda_matches = fda_pattern.findall(text)\n",
        "\n",
        "# Pattern for Medical Devices Directive\n",
        "mdd_pattern = re.compile(r'93/42/EEC')\n",
        "mdd_matches = mdd_pattern.findall(text)\n",
        "\n",
        "# Pattern for ISO standards\n",
        "iso_pattern = re.compile(r'ISO \\d{5}')\n",
        "iso_matches = iso_pattern.findall(text)\n",
        "\n",
        "print(\"FDA Regulations:\")\n",
        "for match in fda_matches:\n",
        "    print(match)\n",
        "print(\"\\n\")\n",
        "\n",
        "print(\"Medical Devices Directive:\")\n",
        "for match in mdd_matches:\n",
        "    print(match)\n",
        "print(\"\\n\")\n",
        "\n",
        "print(\"ISO Standards:\")\n",
        "for match in iso_matches:\n",
        "    print(match)\n"
      ],
      "metadata": {
        "colab": {
          "base_uri": "https://localhost:8080/"
        },
        "id": "jPkvd50o3fcE",
        "outputId": "b7bb572c-c521-4b72-ffb7-2199b4cc786d"
      },
      "execution_count": 5,
      "outputs": [
        {
          "output_type": "stream",
          "name": "stdout",
          "text": [
            "FDA Regulations:\n",
            "21CFR820\n",
            "21CFR807\n",
            "21CFR807\n",
            "\n",
            "\n",
            "Medical Devices Directive:\n",
            "93/42/EEC\n",
            "\n",
            "\n",
            "ISO Standards:\n",
            "ISO 13485\n"
          ]
        }
      ]
    },
    {
      "cell_type": "code",
      "source": [],
      "metadata": {
        "id": "uaJUhFlD4pJ2"
      },
      "execution_count": null,
      "outputs": []
    }
  ]
}